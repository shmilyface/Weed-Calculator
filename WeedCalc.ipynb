{
 "cells": [
  {
   "cell_type": "code",
   "execution_count": 1,
   "metadata": {},
   "outputs": [
    {
     "data": {
      "image/jpeg": "[encoded data removed]",
      "text/html": [
       "\n",
       "        <iframe\n",
       "            width=\"400\"\n",
       "            height=\"300\"\n",
       "            src=\"https://www.youtube.com/embed/wOU_3wsc35s\"\n",
       "            frameborder=\"0\"\n",
       "            allowfullscreen\n",
       "        ></iframe>\n",
       "        "
      ],
      "text/plain": [
       "<IPython.lib.display.YouTubeVideo at 0x105ad7550>"
      ]
     },
     "execution_count": 1,
     "metadata": {},
     "output_type": "execute_result"
    }
   ],
   "source": [
    "from IPython.display import YouTubeVideo\n",
    "import os\n",
    "from io import StringIO\n",
    "import requests\n",
    "import requests\n",
    "import json\n",
    "import csv\n",
    "import sqlite3\n",
    "import sys\n",
    "import pandas as pd\n",
    "from pprint import pprint\n",
    "import matplotlib.pyplot as plt\n",
    "import matplotlib as mpl\n",
    "import numpy as np\n",
    "import seaborn as sns\n",
    "\n",
    "pd.set_option('display.max_row', 1000)\n",
    "pd.set_option('display.max_columns', 50)\n",
    "\n",
    "sns.set_context(\"notebook\", font_scale=1.1)\n",
    "sns.set_style(\"ticks\")\n",
    "\n",
    "\n",
    "\n",
    "YouTubeVideo('wOU_3wsc35s')"
   ]
  },
  {
   "cell_type": "code",
   "execution_count": 2,
   "metadata": {
    "scrolled": true
   },
   "outputs": [],
   "source": [
    "url = ['https://raw.githubusercontent.com/MedCabinet/ML_Machine_Learning_Files/master/med1.csv', \n",
    "       'https://raw.githubusercontent.com/MedCabinet/Weed-Calculator/master/Clean_Data/cbd.csv',\n",
    "       'https://raw.githubusercontent.com/MedCabinet/Weed-Calculator/master/Clean_Data/feels.csv',\n",
    "       'https://raw.githubusercontent.com/MedCabinet/Weed-Calculator/master/Clean_Data/hurts.csv',\n",
    "       'https://raw.githubusercontent.com/MedCabinet/Weed-Calculator/master/Clean_Data/reviews.csv',\n",
    "       'https://raw.githubusercontent.com/MedCabinet/Weed-Calculator/master/Clean_Data/terps.csv',\n",
    "       'https://raw.githubusercontent.com/MedCabinet/Weed-Calculator/master/Clean_Data/thc.csv']\n",
    "\n",
    "\n",
    "\n",
    "for i,x in enumerate(url):\n",
    "    df = pd.read_csv(url[0])\n",
    "    df_cbd = pd.read_csv(url[1])\n",
    "    df_feels = pd.read_csv(url[2])\n",
    "    df_hurts = pd.read_csv(url[3])\n",
    "    df_reviews = pd.read_csv(url[4])\n",
    "    df_terps = pd.read_csv(url[5])\n",
    "    df_thc = pd.read_csv(url[6])\n",
    "\n",
    "dataframes = [df, df_cbd, df_feels, \n",
    "              df_hurts, df_reviews, \n",
    "              df_terps, df_thc]\n",
    "\n",
    "df_names = ['df', 'df_cbd', 'df_feels',\n",
    "            'df_hurts', 'df_reviews',\n",
    "            'df_terps', 'df_thc']\n",
    "\n",
    "dfs = dict(zip(df_names, dataframes))\n",
    "\n"
   ]
  },
  {
   "cell_type": "code",
   "execution_count": 3,
   "metadata": {},
   "outputs": [],
   "source": [
    "def dataframe_var():\n",
    "    url = ['https://raw.githubusercontent.com/MedCabinet/ML_Machine_Learning_Files/master/med1.csv',\n",
    "    'https://raw.githubusercontent.com/MedCabinet/Weed-Calculator/master/Clean_Data/cbd.csv',\n",
    "    'https://raw.githubusercontent.com/MedCabinet/Weed-Calculator/master/Clean_Data/feels.csv',\n",
    "    'https://raw.githubusercontent.com/MedCabinet/Weed-Calculator/master/Clean_Data/hurts.csv',\n",
    "    'https://raw.githubusercontent.com/MedCabinet/Weed-Calculator/master/Clean_Data/reviews.csv',\n",
    "    'https://raw.githubusercontent.com/MedCabinet/Weed-Calculator/master/Clean_Data/terps.csv',\n",
    "    'https://raw.githubusercontent.com/MedCabinet/Weed-Calculator/master/Clean_Data/thc.csv']\n",
    "    \n",
    "    for i,x in enumerate(url):\n",
    "        df = pd.read_csv(url[0])\n",
    "        df_cbd = pd.read_csv(url[1])\n",
    "        df_feels = pd.read_csv(url[2])\n",
    "        df_hurts = pd.read_csv(url[3])\n",
    "        df_reviews = pd.read_csv(url[4])\n",
    "        df_terps = pd.read_csv(url[5])\n",
    "        df_thc = pd.read_csv(url[6])\n",
    "        \n",
    "    dataframes = [df, df_cbd, df_feels,\n",
    "    df_hurts, df_reviews,\n",
    "    df_terps, df_thc]\n",
    "    \n",
    "    df_names = ['df', 'df_cbd', 'df_feels',\n",
    "    'df_hurts', 'df_reviews',\n",
    "    'df_terps', 'df_thc']\n",
    "    \n",
    "    dfs = dict(zip(df_names, dataframes))\n",
    "    \n",
    "    return dataframes, df_names, dfs"
   ]
  },
  {
   "cell_type": "code",
   "execution_count": 4,
   "metadata": {},
   "outputs": [],
   "source": [
    "# dataframes, df_names, dfs = dataframe_var()"
   ]
  },
  {
   "cell_type": "code",
   "execution_count": 5,
   "metadata": {},
   "outputs": [],
   "source": [
    "#Removing extended index column / consistency formatting\n",
    "for k, v in dfs.items():\n",
    "    \n",
    "    if 'Unnamed: 0' in v.columns:\n",
    "        v.drop(['Unnamed: 0'], axis=1,inplace=True)\n",
    "    v.columns = map(str.lower, v.columns)\n",
    "    if 'strain' in v.columns:\n",
    "        v['strain'] = v['strain'].str.lower()\n",
    "        "
   ]
  },
  {
   "cell_type": "code",
   "execution_count": 6,
   "metadata": {},
   "outputs": [],
   "source": [
    "def merge_func():\n",
    "    global df\n",
    "    df = pd.merge(df, df_thc, on='strain')\n",
    "    df = pd.merge(df, df_cbd, on='strain')\n",
    "    df = pd.merge(df, df_terps, on='strain')\n",
    "    df.rename(columns={'high_x': 'thc_high','low_x':'thc_low','high_y':'terp_high','low_y':'terp_low'},inplace=True)\n",
    "    df.drop(columns=['description','flavor','rating','effects'],inplace=True)\n",
    "    return df\n",
    "    "
   ]
  },
  {
   "cell_type": "code",
   "execution_count": 7,
   "metadata": {},
   "outputs": [],
   "source": [
    "if len(df.columns) == 6:\n",
    "    merge_func()"
   ]
  },
  {
   "cell_type": "code",
   "execution_count": 8,
   "metadata": {
    "scrolled": true
   },
   "outputs": [
    {
     "data": {
      "text/plain": [
       "'\\nG = grams of cannabis\\nP = potency in milligrams of THC\\nS = strength of cannabis in percent\\n\\n\\nP = 10 (G & S)\\n'"
      ]
     },
     "execution_count": 8,
     "metadata": {},
     "output_type": "execute_result"
    }
   ],
   "source": [
    "\"\"\"\n",
    "G = grams of cannabis\n",
    "P = potency in milligrams of THC\n",
    "S = strength of cannabis in percent\n",
    "\n",
    "\n",
    "P = 10 (G & S)\n",
    "\"\"\""
   ]
  },
  {
   "cell_type": "code",
   "execution_count": 192,
   "metadata": {},
   "outputs": [],
   "source": [
    "def calc():\n",
    "    while True:\n",
    "        try:\n",
    "            G = float(input('Quantity of Grams: '))\n",
    "            if G < .001 or G > 20:\n",
    "                raise ValueError\n",
    "                break\n",
    "        except ValueError:\n",
    "            print('Please choose a valid number of grams')\n",
    "        break\n",
    "    thc_high = 23 # assign variable values via strain selection\n",
    "    thc_low = 44 # assign variable values via strain selection\n",
    "    \n",
    "    S = ((thc_high + thc_low)/2)\n",
    "    P = 10 * (G * S)\n",
    "    \n",
    "    if S >= .2 and P > 0:\n",
    "        print('Strain contains high THC content amount of:','{:,.0f}'.format(float(S)) + '%')\n",
    "        print('Use contains a Potency Level of:','{}'.format(int(P)) + 'mg')\n",
    "    elif S >= .10 or S <= .15 and P > 0:\n",
    "        print('Strain contains mid-level THC content amount of:','{:,.2f}'.format(float(S)) + '%')\n",
    "        print('Use contains a Potency Level of:','{}'.format(int(P)) + 'mg')\n",
    "    elif S <= .05 and P > 0:\n",
    "        print('Strain contains low-level THC content amount of:','{:,.0f}'.format(float(S)) + '%')\n",
    "        print('Use contains a Potency Level of:','{}'.format(int(P)) + 'mg')\n",
    "            \n",
    "        "
   ]
  },
  {
   "cell_type": "code",
   "execution_count": 194,
   "metadata": {},
   "outputs": [
    {
     "name": "stdout",
     "output_type": "stream",
     "text": [
      "Quantity of Grams: 2\n",
      "Strain contains high THC content amount of: 34%\n",
      "Use contains a Potency Level of: 670mg\n"
     ]
    }
   ],
   "source": [
    "calc()"
   ]
  },
  {
   "cell_type": "code",
   "execution_count": null,
   "metadata": {},
   "outputs": [],
   "source": []
  },
  {
   "cell_type": "code",
   "execution_count": 28,
   "metadata": {},
   "outputs": [
    {
     "data": {
      "text/html": [
       "<div>\n",
       "<style scoped>\n",
       "    .dataframe tbody tr th:only-of-type {\n",
       "        vertical-align: middle;\n",
       "    }\n",
       "\n",
       "    .dataframe tbody tr th {\n",
       "        vertical-align: top;\n",
       "    }\n",
       "\n",
       "    .dataframe thead th {\n",
       "        text-align: right;\n",
       "    }\n",
       "</style>\n",
       "<table border=\"1\" class=\"dataframe\">\n",
       "  <thead>\n",
       "    <tr style=\"text-align: right;\">\n",
       "      <th></th>\n",
       "      <th>strain</th>\n",
       "      <th>type</th>\n",
       "      <th>thc_high</th>\n",
       "      <th>thc_low</th>\n",
       "      <th>terp_high</th>\n",
       "      <th>terp_low</th>\n",
       "      <th>myrcene</th>\n",
       "      <th>pinene</th>\n",
       "      <th>caryophyllene</th>\n",
       "      <th>limonene</th>\n",
       "      <th>humulene</th>\n",
       "      <th>terpinolene</th>\n",
       "      <th>linalool</th>\n",
       "      <th>ocimene</th>\n",
       "    </tr>\n",
       "  </thead>\n",
       "  <tbody>\n",
       "    <tr>\n",
       "      <td>0</td>\n",
       "      <td>24k-gold</td>\n",
       "      <td>hybrid</td>\n",
       "      <td>22</td>\n",
       "      <td>19</td>\n",
       "      <td>1</td>\n",
       "      <td>0</td>\n",
       "      <td>1.0</td>\n",
       "      <td>1.0</td>\n",
       "      <td>0.0</td>\n",
       "      <td>1.0</td>\n",
       "      <td>0.0</td>\n",
       "      <td>0.0</td>\n",
       "      <td>0.0</td>\n",
       "      <td>0.0</td>\n",
       "    </tr>\n",
       "    <tr>\n",
       "      <td>1</td>\n",
       "      <td>3-kings</td>\n",
       "      <td>hybrid</td>\n",
       "      <td>19</td>\n",
       "      <td>14</td>\n",
       "      <td>1</td>\n",
       "      <td>0</td>\n",
       "      <td>0.0</td>\n",
       "      <td>0.0</td>\n",
       "      <td>1.0</td>\n",
       "      <td>1.0</td>\n",
       "      <td>1.0</td>\n",
       "      <td>0.0</td>\n",
       "      <td>0.0</td>\n",
       "      <td>0.0</td>\n",
       "    </tr>\n",
       "    <tr>\n",
       "      <td>2</td>\n",
       "      <td>3x-crazy</td>\n",
       "      <td>indica</td>\n",
       "      <td>14</td>\n",
       "      <td>12</td>\n",
       "      <td>1</td>\n",
       "      <td>0</td>\n",
       "      <td>1.0</td>\n",
       "      <td>0.0</td>\n",
       "      <td>1.0</td>\n",
       "      <td>1.0</td>\n",
       "      <td>0.0</td>\n",
       "      <td>0.0</td>\n",
       "      <td>0.0</td>\n",
       "      <td>0.0</td>\n",
       "    </tr>\n",
       "    <tr>\n",
       "      <td>3</td>\n",
       "      <td>501st-og</td>\n",
       "      <td>hybrid</td>\n",
       "      <td>23</td>\n",
       "      <td>20</td>\n",
       "      <td>1</td>\n",
       "      <td>0</td>\n",
       "      <td>1.0</td>\n",
       "      <td>0.0</td>\n",
       "      <td>1.0</td>\n",
       "      <td>1.0</td>\n",
       "      <td>0.0</td>\n",
       "      <td>0.0</td>\n",
       "      <td>0.0</td>\n",
       "      <td>0.0</td>\n",
       "    </tr>\n",
       "    <tr>\n",
       "      <td>4</td>\n",
       "      <td>707-headband</td>\n",
       "      <td>hybrid</td>\n",
       "      <td>20</td>\n",
       "      <td>14</td>\n",
       "      <td>1</td>\n",
       "      <td>0</td>\n",
       "      <td>1.0</td>\n",
       "      <td>0.0</td>\n",
       "      <td>1.0</td>\n",
       "      <td>1.0</td>\n",
       "      <td>0.0</td>\n",
       "      <td>0.0</td>\n",
       "      <td>0.0</td>\n",
       "      <td>0.0</td>\n",
       "    </tr>\n",
       "  </tbody>\n",
       "</table>\n",
       "</div>"
      ],
      "text/plain": [
       "         strain    type  thc_high  thc_low  terp_high  terp_low  myrcene  \\\n",
       "0      24k-gold  hybrid        22       19          1         0      1.0   \n",
       "1       3-kings  hybrid        19       14          1         0      0.0   \n",
       "2      3x-crazy  indica        14       12          1         0      1.0   \n",
       "3      501st-og  hybrid        23       20          1         0      1.0   \n",
       "4  707-headband  hybrid        20       14          1         0      1.0   \n",
       "\n",
       "   pinene  caryophyllene  limonene  humulene  terpinolene  linalool  ocimene  \n",
       "0     1.0            0.0       1.0       0.0          0.0       0.0      0.0  \n",
       "1     0.0            1.0       1.0       1.0          0.0       0.0      0.0  \n",
       "2     0.0            1.0       1.0       0.0          0.0       0.0      0.0  \n",
       "3     0.0            1.0       1.0       0.0          0.0       0.0      0.0  \n",
       "4     0.0            1.0       1.0       0.0          0.0       0.0      0.0  "
      ]
     },
     "execution_count": 28,
     "metadata": {},
     "output_type": "execute_result"
    }
   ],
   "source": []
  },
  {
   "cell_type": "code",
   "execution_count": null,
   "metadata": {},
   "outputs": [],
   "source": []
  },
  {
   "cell_type": "code",
   "execution_count": 11,
   "metadata": {},
   "outputs": [],
   "source": [
    "# cols = df.columns.values.tolist()\n",
    "# df.rename(str.strip, axis='columns',inplace=True)\n",
    "# df.rename(str.lower, axis='columns',inplace=True)\n",
    "# df.rename(columns = lambda x: x.replace('type','strain_type')[0:],inplace = True)\n"
   ]
  },
  {
   "cell_type": "code",
   "execution_count": 12,
   "metadata": {},
   "outputs": [],
   "source": [
    "# df['flavor'] = df['flavor'].fillna('Unknown')\n",
    "# df['description'] = df['description'].fillna('Unknown')"
   ]
  },
  {
   "cell_type": "code",
   "execution_count": 13,
   "metadata": {},
   "outputs": [],
   "source": [
    "# def str_clean(x):\n",
    "#     df[x] = df[x].str.split(',')\n",
    "#     df[x] = df[x].apply(lambda x:', '.join([str(i) for i in x]))\n",
    "\n",
    "# str_clean('flavor')\n",
    "# str_clean('effects')"
   ]
  },
  {
   "cell_type": "code",
   "execution_count": 14,
   "metadata": {},
   "outputs": [],
   "source": [
    "# with sns.axes_style('white'):\n",
    "#     sns.kdeplot(df['rating'])"
   ]
  },
  {
   "cell_type": "code",
   "execution_count": 15,
   "metadata": {},
   "outputs": [],
   "source": [
    "# df['description'] = df.description.str.strip()"
   ]
  },
  {
   "cell_type": "code",
   "execution_count": 16,
   "metadata": {},
   "outputs": [],
   "source": [
    "# import spacy\n",
    "# nlp = spacy.load(\"en_core_web_lg\")"
   ]
  },
  {
   "cell_type": "code",
   "execution_count": null,
   "metadata": {},
   "outputs": [],
   "source": []
  },
  {
   "cell_type": "code",
   "execution_count": null,
   "metadata": {},
   "outputs": [],
   "source": []
  },
  {
   "cell_type": "code",
   "execution_count": null,
   "metadata": {},
   "outputs": [],
   "source": []
  },
  {
   "cell_type": "code",
   "execution_count": null,
   "metadata": {},
   "outputs": [],
   "source": []
  },
  {
   "cell_type": "code",
   "execution_count": null,
   "metadata": {},
   "outputs": [],
   "source": []
  },
  {
   "cell_type": "code",
   "execution_count": null,
   "metadata": {},
   "outputs": [],
   "source": []
  },
  {
   "cell_type": "code",
   "execution_count": null,
   "metadata": {},
   "outputs": [],
   "source": []
  },
  {
   "cell_type": "code",
   "execution_count": null,
   "metadata": {},
   "outputs": [],
   "source": []
  },
  {
   "cell_type": "code",
   "execution_count": null,
   "metadata": {},
   "outputs": [],
   "source": []
  },
  {
   "cell_type": "code",
   "execution_count": null,
   "metadata": {},
   "outputs": [],
   "source": []
  },
  {
   "cell_type": "code",
   "execution_count": null,
   "metadata": {},
   "outputs": [],
   "source": []
  },
  {
   "cell_type": "code",
   "execution_count": null,
   "metadata": {},
   "outputs": [],
   "source": []
  },
  {
   "cell_type": "code",
   "execution_count": null,
   "metadata": {},
   "outputs": [],
   "source": []
  },
  {
   "cell_type": "code",
   "execution_count": null,
   "metadata": {},
   "outputs": [],
   "source": []
  },
  {
   "cell_type": "code",
   "execution_count": null,
   "metadata": {},
   "outputs": [],
   "source": []
  },
  {
   "cell_type": "code",
   "execution_count": null,
   "metadata": {},
   "outputs": [],
   "source": []
  },
  {
   "cell_type": "code",
   "execution_count": null,
   "metadata": {},
   "outputs": [],
   "source": []
  },
  {
   "cell_type": "code",
   "execution_count": null,
   "metadata": {},
   "outputs": [],
   "source": []
  },
  {
   "cell_type": "code",
   "execution_count": null,
   "metadata": {},
   "outputs": [],
   "source": []
  },
  {
   "cell_type": "code",
   "execution_count": null,
   "metadata": {},
   "outputs": [],
   "source": []
  },
  {
   "cell_type": "code",
   "execution_count": null,
   "metadata": {},
   "outputs": [],
   "source": []
  }
 ],
 "metadata": {
  "kernelspec": {
   "display_name": "Python 3",
   "language": "python",
   "name": "python3"
  },
  "language_info": {
   "codemirror_mode": {
    "name": "ipython",
    "version": 3
   },
   "file_extension": ".py",
   "mimetype": "text/x-python",
   "name": "python",
   "nbconvert_exporter": "python",
   "pygments_lexer": "ipython3",
   "version": "3.7.4"
  }
 },
 "nbformat": 4,
 "nbformat_minor": 2
}
